{
 "cells": [
  {
   "cell_type": "code",
   "execution_count": 1,
   "id": "55b42d69",
   "metadata": {
    "_cell_guid": "b1076dfc-b9ad-4769-8c92-a6c4dae69d19",
    "_uuid": "8f2839f25d086af736a60e9eeb907d3b93b6e0e5",
    "execution": {
     "iopub.execute_input": "2024-11-21T12:41:17.326947Z",
     "iopub.status.busy": "2024-11-21T12:41:17.325328Z",
     "iopub.status.idle": "2024-11-21T12:41:18.647847Z",
     "shell.execute_reply": "2024-11-21T12:41:18.646836Z"
    },
    "papermill": {
     "duration": 1.32866,
     "end_time": "2024-11-21T12:41:18.649507",
     "exception": false,
     "start_time": "2024-11-21T12:41:17.320847",
     "status": "completed"
    },
    "tags": []
   },
   "outputs": [
    {
     "name": "stdout",
     "output_type": "stream",
     "text": [
      "/kaggle/input/consume-complaints-dataset-fo-nlp/complaints_processed.csv\n"
     ]
    }
   ],
   "source": [
    "# This Python 3 environment comes with many helpful analytics libraries installed\n",
    "# It is defined by the kaggle/python Docker image: https://github.com/kaggle/docker-python\n",
    "# For example, here's several helpful packages to load\n",
    "\n",
    "import numpy as np # linear algebra\n",
    "import pandas as pd # data processing, CSV file I/O (e.g. pd.read_csv)\n",
    "\n",
    "# Input data files are available in the read-only \"../input/\" directory\n",
    "# For example, running this (by clicking run or pressing Shift+Enter) will list all files under the input directory\n",
    "\n",
    "import os\n",
    "for dirname, _, filenames in os.walk('/kaggle/input'):\n",
    "    for filename in filenames:\n",
    "        print(os.path.join(dirname, filename))\n",
    "\n",
    "# You can write up to 20GB to the current directory (/kaggle/working/) that gets preserved as output when you create a version using \"Save & Run All\" \n",
    "# You can also write temporary files to /kaggle/temp/, but they won't be saved outside of the current session"
   ]
  },
  {
   "cell_type": "code",
   "execution_count": 2,
   "id": "41b46a19",
   "metadata": {
    "execution": {
     "iopub.execute_input": "2024-11-21T12:41:18.655173Z",
     "iopub.status.busy": "2024-11-21T12:41:18.654834Z",
     "iopub.status.idle": "2024-11-21T12:41:20.665331Z",
     "shell.execute_reply": "2024-11-21T12:41:20.664498Z"
    },
    "papermill": {
     "duration": 2.0152,
     "end_time": "2024-11-21T12:41:20.667208",
     "exception": false,
     "start_time": "2024-11-21T12:41:18.652008",
     "status": "completed"
    },
    "tags": []
   },
   "outputs": [
    {
     "name": "stdout",
     "output_type": "stream",
     "text": [
      "Cloning into 'NPL-Customer-Complaint-Project'...\r\n",
      "remote: Enumerating objects: 6, done.\u001b[K\r\n",
      "remote: Counting objects: 100% (6/6), done.\u001b[K\r\n",
      "remote: Compressing objects: 100% (4/4), done.\u001b[K\r\n",
      "remote: Total 6 (delta 0), reused 0 (delta 0), pack-reused 0 (from 0)\u001b[K\r\n",
      "Receiving objects: 100% (6/6), done.\r\n"
     ]
    }
   ],
   "source": [
    "!git clone https://github.com/victoriamuinde07/NPL-Customer-Complaint-Project.git"
   ]
  },
  {
   "cell_type": "markdown",
   "id": "ddd4427c",
   "metadata": {
    "papermill": {
     "duration": 0.001965,
     "end_time": "2024-11-21T12:41:20.671488",
     "exception": false,
     "start_time": "2024-11-21T12:41:20.669523",
     "status": "completed"
    },
    "tags": []
   },
   "source": [
    "### Bank Customer Complaints Classification"
   ]
  },
  {
   "cell_type": "markdown",
   "id": "e55e26a1",
   "metadata": {
    "papermill": {
     "duration": 0.001867,
     "end_time": "2024-11-21T12:41:20.675417",
     "exception": false,
     "start_time": "2024-11-21T12:41:20.673550",
     "status": "completed"
    },
    "tags": []
   },
   "source": [
    "### Executive Summary.\n",
    "This project leverages Natural Language Processing(NLP) to streamline customer complaint classification,aiming to reduce the time and complexity customers face when submitting complaints.By implementing an NLP model that automatically categorizes complaints based on content,the system eliminates the need for customers to navigate through numerous questions or options.The project's primary goals are to minimize the time spent on logging complaints and to enhance user experience with a simple,intuitive interface.\n",
    "\n",
    "To achieve these goals,the project trained and evaluated various machine learning models,including Multinomial Naive Bayes,Support Vector Machine(SVM),Logistic Regression,Random Forest,and an ensembe model(ExtraTrees),before training and selecting a transformer-based model,BERT.The BERT model excelled in handling language tasks,achieving a Macro F1-score of 0.85,weighted F1-score of 0.89,and an accuracy of 89%,showing strong performance across all complaint categories.The focus on Macro F1-score ensured balanced classification"
   ]
  },
  {
   "cell_type": "markdown",
   "id": "cfadbc2b",
   "metadata": {
    "papermill": {
     "duration": 0.001838,
     "end_time": "2024-11-21T12:41:20.679319",
     "exception": false,
     "start_time": "2024-11-21T12:41:20.677481",
     "status": "completed"
    },
    "tags": []
   },
   "source": [
    "### Data Exploration"
   ]
  },
  {
   "cell_type": "code",
   "execution_count": 3,
   "id": "6ac74ac4",
   "metadata": {
    "execution": {
     "iopub.execute_input": "2024-11-21T12:41:20.684776Z",
     "iopub.status.busy": "2024-11-21T12:41:20.684433Z",
     "iopub.status.idle": "2024-11-21T12:41:24.866116Z",
     "shell.execute_reply": "2024-11-21T12:41:24.865036Z"
    },
    "papermill": {
     "duration": 4.187165,
     "end_time": "2024-11-21T12:41:24.868472",
     "exception": false,
     "start_time": "2024-11-21T12:41:20.681307",
     "status": "completed"
    },
    "tags": []
   },
   "outputs": [],
   "source": [
    "#importing necessary libraries.\n",
    "import pandas as pd \n",
    "import numpy as np\n",
    "import matplotlib.pyplot as plt\n",
    "import seaborn as sns\n",
    "import nltk\n",
    "from nltk.corpus import stopwords\n",
    "from nltk.tokenize import word_tokenize\n",
    "from nltk.stem import WordNetLemmatizer\n",
    "import re\n",
    "\n",
    "from wordcloud import WordCloud\n",
    "from collections import Counter\n",
    "\n",
    "from sklearn.preprocessing import LabelEncoder\n",
    "from sklearn.preprocessing import label_binarize\n",
    "from sklearn.model_selection import train_test_split\n",
    "from sklearn.feature_extraction.text import CountVectorizer\n",
    "from sklearn.feature_extraction.text import TfidfVectorizer\n",
    "from sklearn.preprocessing import MinMaxScaler\n",
    "from sklearn.naive_bayes import MultinomialNB\n",
    "from sklearn.metrics import classification_report,accuracy_score\n",
    "from sklearn.svm import LinearSVC\n",
    "from sklearn.metrics import confusion_matrix,roc_curve,roc_auc_score,auc\n",
    "from sklearn.metrics import precision_recall_fscore_support\n",
    "from sklearn.linear_model import LogisticRegression\n",
    "from sklearn.ensemble import RandomForestClassifier\n",
    "from sklearn.model_selection import GridSearchCV\n",
    "from sklearn.model_selection import RandomizedSearchCV\n",
    "from sklearn.ensemble import ExtraTreesClassifier\n",
    "\n",
    "from imblearn.over_sampling import SMOTE\n",
    "import joblib\n",
    "\n",
    "\n",
    "\n"
   ]
  },
  {
   "cell_type": "code",
   "execution_count": 4,
   "id": "a3464b7f",
   "metadata": {
    "execution": {
     "iopub.execute_input": "2024-11-21T12:41:24.874369Z",
     "iopub.status.busy": "2024-11-21T12:41:24.873986Z",
     "iopub.status.idle": "2024-11-21T12:41:26.888455Z",
     "shell.execute_reply": "2024-11-21T12:41:26.887640Z"
    },
    "papermill": {
     "duration": 2.019402,
     "end_time": "2024-11-21T12:41:26.890321",
     "exception": false,
     "start_time": "2024-11-21T12:41:24.870919",
     "status": "completed"
    },
    "tags": []
   },
   "outputs": [
    {
     "data": {
      "text/html": [
       "<div>\n",
       "<style scoped>\n",
       "    .dataframe tbody tr th:only-of-type {\n",
       "        vertical-align: middle;\n",
       "    }\n",
       "\n",
       "    .dataframe tbody tr th {\n",
       "        vertical-align: top;\n",
       "    }\n",
       "\n",
       "    .dataframe thead th {\n",
       "        text-align: right;\n",
       "    }\n",
       "</style>\n",
       "<table border=\"1\" class=\"dataframe\">\n",
       "  <thead>\n",
       "    <tr style=\"text-align: right;\">\n",
       "      <th></th>\n",
       "      <th>Unnamed: 0</th>\n",
       "      <th>product</th>\n",
       "      <th>narrative</th>\n",
       "    </tr>\n",
       "  </thead>\n",
       "  <tbody>\n",
       "    <tr>\n",
       "      <th>0</th>\n",
       "      <td>0</td>\n",
       "      <td>credit_card</td>\n",
       "      <td>purchase order day shipping amount receive pro...</td>\n",
       "    </tr>\n",
       "    <tr>\n",
       "      <th>1</th>\n",
       "      <td>1</td>\n",
       "      <td>credit_card</td>\n",
       "      <td>forwarded message date tue subject please inve...</td>\n",
       "    </tr>\n",
       "    <tr>\n",
       "      <th>2</th>\n",
       "      <td>2</td>\n",
       "      <td>retail_banking</td>\n",
       "      <td>forwarded message cc sent friday pdt subject f...</td>\n",
       "    </tr>\n",
       "    <tr>\n",
       "      <th>3</th>\n",
       "      <td>3</td>\n",
       "      <td>credit_reporting</td>\n",
       "      <td>payment history missing credit report speciali...</td>\n",
       "    </tr>\n",
       "    <tr>\n",
       "      <th>4</th>\n",
       "      <td>4</td>\n",
       "      <td>credit_reporting</td>\n",
       "      <td>payment history missing credit report made mis...</td>\n",
       "    </tr>\n",
       "    <tr>\n",
       "      <th>5</th>\n",
       "      <td>5</td>\n",
       "      <td>credit_reporting</td>\n",
       "      <td>payment history missing credit report made mis...</td>\n",
       "    </tr>\n",
       "    <tr>\n",
       "      <th>6</th>\n",
       "      <td>6</td>\n",
       "      <td>credit_reporting</td>\n",
       "      <td>va date complaint experian credit bureau invol...</td>\n",
       "    </tr>\n",
       "    <tr>\n",
       "      <th>7</th>\n",
       "      <td>7</td>\n",
       "      <td>credit_reporting</td>\n",
       "      <td>account reported abbreviated name full name se...</td>\n",
       "    </tr>\n",
       "    <tr>\n",
       "      <th>8</th>\n",
       "      <td>8</td>\n",
       "      <td>credit_reporting</td>\n",
       "      <td>account reported abbreviated name full name se...</td>\n",
       "    </tr>\n",
       "    <tr>\n",
       "      <th>9</th>\n",
       "      <td>9</td>\n",
       "      <td>credit_reporting</td>\n",
       "      <td>usdoexxxx account reported abbreviated name fu...</td>\n",
       "    </tr>\n",
       "    <tr>\n",
       "      <th>10</th>\n",
       "      <td>10</td>\n",
       "      <td>mortgages_and_loans</td>\n",
       "      <td>beginning mortgage held mb financial mb mortga...</td>\n",
       "    </tr>\n",
       "    <tr>\n",
       "      <th>11</th>\n",
       "      <td>11</td>\n",
       "      <td>credit_card</td>\n",
       "      <td>called request new york state covid relief pla...</td>\n",
       "    </tr>\n",
       "    <tr>\n",
       "      <th>12</th>\n",
       "      <td>12</td>\n",
       "      <td>credit_card</td>\n",
       "      <td>capital one secured credit account opened name...</td>\n",
       "    </tr>\n",
       "    <tr>\n",
       "      <th>13</th>\n",
       "      <td>13</td>\n",
       "      <td>credit_reporting</td>\n",
       "      <td>collection account acct opened balance account...</td>\n",
       "    </tr>\n",
       "    <tr>\n",
       "      <th>14</th>\n",
       "      <td>14</td>\n",
       "      <td>debt_collection</td>\n",
       "      <td>collection agency system inc mn phone sent let...</td>\n",
       "    </tr>\n",
       "    <tr>\n",
       "      <th>15</th>\n",
       "      <td>15</td>\n",
       "      <td>mortgages_and_loans</td>\n",
       "      <td>current loan provident funding applied refinan...</td>\n",
       "    </tr>\n",
       "    <tr>\n",
       "      <th>16</th>\n",
       "      <td>16</td>\n",
       "      <td>mortgages_and_loans</td>\n",
       "      <td>current loan got deferment paid back credit hi...</td>\n",
       "    </tr>\n",
       "    <tr>\n",
       "      <th>17</th>\n",
       "      <td>17</td>\n",
       "      <td>mortgages_and_loans</td>\n",
       "      <td>closed mortgage dovenmuhle mortgage paid full ...</td>\n",
       "    </tr>\n",
       "    <tr>\n",
       "      <th>18</th>\n",
       "      <td>18</td>\n",
       "      <td>mortgages_and_loans</td>\n",
       "      <td>contacted bank america boa mortgage customer s...</td>\n",
       "    </tr>\n",
       "    <tr>\n",
       "      <th>19</th>\n",
       "      <td>19</td>\n",
       "      <td>credit_reporting</td>\n",
       "      <td>xxxxxxxx credit card year disputed charge vend...</td>\n",
       "    </tr>\n",
       "  </tbody>\n",
       "</table>\n",
       "</div>"
      ],
      "text/plain": [
       "    Unnamed: 0              product  \\\n",
       "0            0          credit_card   \n",
       "1            1          credit_card   \n",
       "2            2       retail_banking   \n",
       "3            3     credit_reporting   \n",
       "4            4     credit_reporting   \n",
       "5            5     credit_reporting   \n",
       "6            6     credit_reporting   \n",
       "7            7     credit_reporting   \n",
       "8            8     credit_reporting   \n",
       "9            9     credit_reporting   \n",
       "10          10  mortgages_and_loans   \n",
       "11          11          credit_card   \n",
       "12          12          credit_card   \n",
       "13          13     credit_reporting   \n",
       "14          14      debt_collection   \n",
       "15          15  mortgages_and_loans   \n",
       "16          16  mortgages_and_loans   \n",
       "17          17  mortgages_and_loans   \n",
       "18          18  mortgages_and_loans   \n",
       "19          19     credit_reporting   \n",
       "\n",
       "                                            narrative  \n",
       "0   purchase order day shipping amount receive pro...  \n",
       "1   forwarded message date tue subject please inve...  \n",
       "2   forwarded message cc sent friday pdt subject f...  \n",
       "3   payment history missing credit report speciali...  \n",
       "4   payment history missing credit report made mis...  \n",
       "5   payment history missing credit report made mis...  \n",
       "6   va date complaint experian credit bureau invol...  \n",
       "7   account reported abbreviated name full name se...  \n",
       "8   account reported abbreviated name full name se...  \n",
       "9   usdoexxxx account reported abbreviated name fu...  \n",
       "10  beginning mortgage held mb financial mb mortga...  \n",
       "11  called request new york state covid relief pla...  \n",
       "12  capital one secured credit account opened name...  \n",
       "13  collection account acct opened balance account...  \n",
       "14  collection agency system inc mn phone sent let...  \n",
       "15  current loan provident funding applied refinan...  \n",
       "16  current loan got deferment paid back credit hi...  \n",
       "17  closed mortgage dovenmuhle mortgage paid full ...  \n",
       "18  contacted bank america boa mortgage customer s...  \n",
       "19  xxxxxxxx credit card year disputed charge vend...  "
      ]
     },
     "execution_count": 4,
     "metadata": {},
     "output_type": "execute_result"
    }
   ],
   "source": [
    "df = pd.read_csv('/kaggle/input/consume-complaints-dataset-fo-nlp/complaints_processed.csv')\n",
    "df.head(20)"
   ]
  },
  {
   "cell_type": "code",
   "execution_count": 5,
   "id": "07c1a888",
   "metadata": {
    "execution": {
     "iopub.execute_input": "2024-11-21T12:41:26.897190Z",
     "iopub.status.busy": "2024-11-21T12:41:26.896923Z",
     "iopub.status.idle": "2024-11-21T12:41:26.946540Z",
     "shell.execute_reply": "2024-11-21T12:41:26.945576Z"
    },
    "papermill": {
     "duration": 0.055207,
     "end_time": "2024-11-21T12:41:26.948084",
     "exception": false,
     "start_time": "2024-11-21T12:41:26.892877",
     "status": "completed"
    },
    "tags": []
   },
   "outputs": [
    {
     "name": "stdout",
     "output_type": "stream",
     "text": [
      "<class 'pandas.core.frame.DataFrame'>\n",
      "RangeIndex: 162421 entries, 0 to 162420\n",
      "Data columns (total 3 columns):\n",
      " #   Column      Non-Null Count   Dtype \n",
      "---  ------      --------------   ----- \n",
      " 0   Unnamed: 0  162421 non-null  int64 \n",
      " 1   product     162421 non-null  object\n",
      " 2   narrative   162411 non-null  object\n",
      "dtypes: int64(1), object(2)\n",
      "memory usage: 3.7+ MB\n"
     ]
    }
   ],
   "source": [
    "# Displaying basic information about the dataframe\n",
    "df.info()"
   ]
  },
  {
   "cell_type": "code",
   "execution_count": null,
   "id": "269c26bb",
   "metadata": {
    "papermill": {
     "duration": 0.002228,
     "end_time": "2024-11-21T12:41:26.952648",
     "exception": false,
     "start_time": "2024-11-21T12:41:26.950420",
     "status": "completed"
    },
    "tags": []
   },
   "outputs": [],
   "source": []
  }
 ],
 "metadata": {
  "kaggle": {
   "accelerator": "nvidiaTeslaT4",
   "dataSources": [
    {
     "datasetId": 1363681,
     "sourceId": 2265312,
     "sourceType": "datasetVersion"
    }
   ],
   "dockerImageVersionId": 30787,
   "isGpuEnabled": true,
   "isInternetEnabled": true,
   "language": "python",
   "sourceType": "notebook"
  },
  "kernelspec": {
   "display_name": "Python 3",
   "language": "python",
   "name": "python3"
  },
  "language_info": {
   "codemirror_mode": {
    "name": "ipython",
    "version": 3
   },
   "file_extension": ".py",
   "mimetype": "text/x-python",
   "name": "python",
   "nbconvert_exporter": "python",
   "pygments_lexer": "ipython3",
   "version": "3.10.14"
  },
  "papermill": {
   "default_parameters": {},
   "duration": 13.6387,
   "end_time": "2024-11-21T12:41:27.473629",
   "environment_variables": {},
   "exception": null,
   "input_path": "__notebook__.ipynb",
   "output_path": "__notebook__.ipynb",
   "parameters": {},
   "start_time": "2024-11-21T12:41:13.834929",
   "version": "2.6.0"
  }
 },
 "nbformat": 4,
 "nbformat_minor": 5
}
