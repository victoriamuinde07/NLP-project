{
 "cells": [
  {
   "cell_type": "code",
   "execution_count": 1,
   "id": "9d19eb4f",
   "metadata": {
    "_cell_guid": "b1076dfc-b9ad-4769-8c92-a6c4dae69d19",
    "_uuid": "8f2839f25d086af736a60e9eeb907d3b93b6e0e5",
    "execution": {
     "iopub.execute_input": "2024-11-21T13:07:29.919217Z",
     "iopub.status.busy": "2024-11-21T13:07:29.918959Z",
     "iopub.status.idle": "2024-11-21T13:07:30.534985Z",
     "shell.execute_reply": "2024-11-21T13:07:30.534214Z"
    },
    "papermill": {
     "duration": 0.621927,
     "end_time": "2024-11-21T13:07:30.536832",
     "exception": false,
     "start_time": "2024-11-21T13:07:29.914905",
     "status": "completed"
    },
    "tags": []
   },
   "outputs": [
    {
     "name": "stdout",
     "output_type": "stream",
     "text": [
      "/kaggle/input/consume-complaints-dataset-fo-nlp/complaints_processed.csv\n"
     ]
    }
   ],
   "source": [
    "# This Python 3 environment comes with many helpful analytics libraries installed\n",
    "# It is defined by the kaggle/python Docker image: https://github.com/kaggle/docker-python\n",
    "# For example, here's several helpful packages to load\n",
    "\n",
    "import numpy as np # linear algebra\n",
    "import pandas as pd # data processing, CSV file I/O (e.g. pd.read_csv)\n",
    "\n",
    "# Input data files are available in the read-only \"../input/\" directory\n",
    "# For example, running this (by clicking run or pressing Shift+Enter) will list all files under the input directory\n",
    "\n",
    "import os\n",
    "for dirname, _, filenames in os.walk('/kaggle/input'):\n",
    "    for filename in filenames:\n",
    "        print(os.path.join(dirname, filename))\n",
    "\n",
    "# You can write up to 20GB to the current directory (/kaggle/working/) that gets preserved as output when you create a version using \"Save & Run All\" \n",
    "# You can also write temporary files to /kaggle/temp/, but they won't be saved outside of the current session"
   ]
  },
  {
   "cell_type": "code",
   "execution_count": 2,
   "id": "38a88939",
   "metadata": {
    "execution": {
     "iopub.execute_input": "2024-11-21T13:07:30.543678Z",
     "iopub.status.busy": "2024-11-21T13:07:30.543296Z",
     "iopub.status.idle": "2024-11-21T13:07:31.992928Z",
     "shell.execute_reply": "2024-11-21T13:07:31.992058Z"
    },
    "papermill": {
     "duration": 1.454978,
     "end_time": "2024-11-21T13:07:31.994823",
     "exception": false,
     "start_time": "2024-11-21T13:07:30.539845",
     "status": "completed"
    },
    "tags": []
   },
   "outputs": [
    {
     "name": "stdout",
     "output_type": "stream",
     "text": [
      "Cloning into 'NPL-Customer-Complaint-Project'...\r\n",
      "remote: Enumerating objects: 15, done.\u001b[K\r\n",
      "remote: Counting objects: 100% (15/15), done.\u001b[K\r\n",
      "remote: Compressing objects: 100% (13/13), done.\u001b[K\r\n",
      "remote: Total 15 (delta 3), reused 0 (delta 0), pack-reused 0 (from 0)\u001b[K\r\n",
      "Receiving objects: 100% (15/15), 8.47 KiB | 2.82 MiB/s, done.\r\n",
      "Resolving deltas: 100% (3/3), done.\r\n"
     ]
    }
   ],
   "source": [
    "!git clone https://github.com/victoriamuinde07/NPL-Customer-Complaint-Project.git"
   ]
  },
  {
   "cell_type": "markdown",
   "id": "b8bb4c99",
   "metadata": {
    "papermill": {
     "duration": 0.002721,
     "end_time": "2024-11-21T13:07:32.000490",
     "exception": false,
     "start_time": "2024-11-21T13:07:31.997769",
     "status": "completed"
    },
    "tags": []
   },
   "source": [
    "### Bank Customer Complaints Classification"
   ]
  },
  {
   "cell_type": "markdown",
   "id": "ab119738",
   "metadata": {
    "papermill": {
     "duration": 0.002651,
     "end_time": "2024-11-21T13:07:32.005844",
     "exception": false,
     "start_time": "2024-11-21T13:07:32.003193",
     "status": "completed"
    },
    "tags": []
   },
   "source": [
    "### Executive Summary.\n",
    "This project leverages Natural Language Processing(NLP) to streamline customer complaint classification,aiming to reduce the time and complexity customers face when submitting complaints.By implementing an NLP model that automatically categorizes complaints based on content,the system eliminates the need for customers to navigate through numerous questions or options.The project's primary goals are to minimize the time spent on logging complaints and to enhance user experience with a simple,intuitive interface.\n",
    "\n",
    "To achieve these goals,the project trained and evaluated various machine learning models,including Multinomial Naive Bayes,Support Vector Machine(SVM),Logistic Regression,Random Forest,and an ensembe model(ExtraTrees),before training and selecting a transformer-based model,BERT.The BERT model excelled in handling language tasks,achieving a Macro F1-score of 0.85,weighted F1-score of 0.89,and an accuracy of 89%,showing strong performance across all complaint categories.The focus on Macro F1-score ensured balanced classification"
   ]
  },
  {
   "cell_type": "markdown",
   "id": "8491db0b",
   "metadata": {
    "papermill": {
     "duration": 0.002617,
     "end_time": "2024-11-21T13:07:32.011202",
     "exception": false,
     "start_time": "2024-11-21T13:07:32.008585",
     "status": "completed"
    },
    "tags": []
   },
   "source": [
    "### Data Exploration"
   ]
  },
  {
   "cell_type": "code",
   "execution_count": 3,
   "id": "eabffbf2",
   "metadata": {
    "execution": {
     "iopub.execute_input": "2024-11-21T13:07:32.018999Z",
     "iopub.status.busy": "2024-11-21T13:07:32.018714Z",
     "iopub.status.idle": "2024-11-21T13:07:34.204210Z",
     "shell.execute_reply": "2024-11-21T13:07:34.203573Z"
    },
    "papermill": {
     "duration": 2.19106,
     "end_time": "2024-11-21T13:07:34.206012",
     "exception": false,
     "start_time": "2024-11-21T13:07:32.014952",
     "status": "completed"
    },
    "tags": []
   },
   "outputs": [],
   "source": [
    "#importing necessary libraries.\n",
    "import pandas as pd \n",
    "import numpy as np\n",
    "import matplotlib.pyplot as plt\n",
    "import seaborn as sns\n",
    "import nltk\n",
    "from nltk.corpus import stopwords\n",
    "from nltk.tokenize import word_tokenize\n",
    "from nltk.stem import WordNetLemmatizer\n",
    "import re\n",
    "\n",
    "from wordcloud import WordCloud\n",
    "from collections import Counter\n",
    "\n",
    "from sklearn.preprocessing import LabelEncoder\n",
    "from sklearn.preprocessing import label_binarize\n",
    "from sklearn.model_selection import train_test_split\n",
    "from sklearn.feature_extraction.text import CountVectorizer\n",
    "from sklearn.feature_extraction.text import TfidfVectorizer\n",
    "from sklearn.preprocessing import MinMaxScaler\n",
    "from sklearn.naive_bayes import MultinomialNB\n",
    "from sklearn.metrics import classification_report,accuracy_score\n",
    "from sklearn.svm import LinearSVC\n",
    "from sklearn.metrics import confusion_matrix,roc_curve,roc_auc_score,auc\n",
    "from sklearn.metrics import precision_recall_fscore_support\n",
    "from sklearn.linear_model import LogisticRegression\n",
    "from sklearn.ensemble import RandomForestClassifier\n",
    "from sklearn.model_selection import GridSearchCV\n",
    "from sklearn.model_selection import RandomizedSearchCV\n",
    "from sklearn.ensemble import ExtraTreesClassifier\n",
    "\n",
    "from imblearn.over_sampling import SMOTE\n",
    "import joblib\n",
    "\n",
    "\n",
    "\n"
   ]
  },
  {
   "cell_type": "code",
   "execution_count": 4,
   "id": "9ef129fd",
   "metadata": {
    "execution": {
     "iopub.execute_input": "2024-11-21T13:07:34.213133Z",
     "iopub.status.busy": "2024-11-21T13:07:34.212777Z",
     "iopub.status.idle": "2024-11-21T13:07:36.098749Z",
     "shell.execute_reply": "2024-11-21T13:07:36.097688Z"
    },
    "papermill": {
     "duration": 1.891716,
     "end_time": "2024-11-21T13:07:36.100808",
     "exception": false,
     "start_time": "2024-11-21T13:07:34.209092",
     "status": "completed"
    },
    "tags": []
   },
   "outputs": [
    {
     "data": {
      "text/html": [
       "<div>\n",
       "<style scoped>\n",
       "    .dataframe tbody tr th:only-of-type {\n",
       "        vertical-align: middle;\n",
       "    }\n",
       "\n",
       "    .dataframe tbody tr th {\n",
       "        vertical-align: top;\n",
       "    }\n",
       "\n",
       "    .dataframe thead th {\n",
       "        text-align: right;\n",
       "    }\n",
       "</style>\n",
       "<table border=\"1\" class=\"dataframe\">\n",
       "  <thead>\n",
       "    <tr style=\"text-align: right;\">\n",
       "      <th></th>\n",
       "      <th>Unnamed: 0</th>\n",
       "      <th>product</th>\n",
       "      <th>narrative</th>\n",
       "    </tr>\n",
       "  </thead>\n",
       "  <tbody>\n",
       "    <tr>\n",
       "      <th>0</th>\n",
       "      <td>0</td>\n",
       "      <td>credit_card</td>\n",
       "      <td>purchase order day shipping amount receive pro...</td>\n",
       "    </tr>\n",
       "    <tr>\n",
       "      <th>1</th>\n",
       "      <td>1</td>\n",
       "      <td>credit_card</td>\n",
       "      <td>forwarded message date tue subject please inve...</td>\n",
       "    </tr>\n",
       "    <tr>\n",
       "      <th>2</th>\n",
       "      <td>2</td>\n",
       "      <td>retail_banking</td>\n",
       "      <td>forwarded message cc sent friday pdt subject f...</td>\n",
       "    </tr>\n",
       "    <tr>\n",
       "      <th>3</th>\n",
       "      <td>3</td>\n",
       "      <td>credit_reporting</td>\n",
       "      <td>payment history missing credit report speciali...</td>\n",
       "    </tr>\n",
       "    <tr>\n",
       "      <th>4</th>\n",
       "      <td>4</td>\n",
       "      <td>credit_reporting</td>\n",
       "      <td>payment history missing credit report made mis...</td>\n",
       "    </tr>\n",
       "    <tr>\n",
       "      <th>5</th>\n",
       "      <td>5</td>\n",
       "      <td>credit_reporting</td>\n",
       "      <td>payment history missing credit report made mis...</td>\n",
       "    </tr>\n",
       "    <tr>\n",
       "      <th>6</th>\n",
       "      <td>6</td>\n",
       "      <td>credit_reporting</td>\n",
       "      <td>va date complaint experian credit bureau invol...</td>\n",
       "    </tr>\n",
       "    <tr>\n",
       "      <th>7</th>\n",
       "      <td>7</td>\n",
       "      <td>credit_reporting</td>\n",
       "      <td>account reported abbreviated name full name se...</td>\n",
       "    </tr>\n",
       "    <tr>\n",
       "      <th>8</th>\n",
       "      <td>8</td>\n",
       "      <td>credit_reporting</td>\n",
       "      <td>account reported abbreviated name full name se...</td>\n",
       "    </tr>\n",
       "    <tr>\n",
       "      <th>9</th>\n",
       "      <td>9</td>\n",
       "      <td>credit_reporting</td>\n",
       "      <td>usdoexxxx account reported abbreviated name fu...</td>\n",
       "    </tr>\n",
       "    <tr>\n",
       "      <th>10</th>\n",
       "      <td>10</td>\n",
       "      <td>mortgages_and_loans</td>\n",
       "      <td>beginning mortgage held mb financial mb mortga...</td>\n",
       "    </tr>\n",
       "    <tr>\n",
       "      <th>11</th>\n",
       "      <td>11</td>\n",
       "      <td>credit_card</td>\n",
       "      <td>called request new york state covid relief pla...</td>\n",
       "    </tr>\n",
       "    <tr>\n",
       "      <th>12</th>\n",
       "      <td>12</td>\n",
       "      <td>credit_card</td>\n",
       "      <td>capital one secured credit account opened name...</td>\n",
       "    </tr>\n",
       "    <tr>\n",
       "      <th>13</th>\n",
       "      <td>13</td>\n",
       "      <td>credit_reporting</td>\n",
       "      <td>collection account acct opened balance account...</td>\n",
       "    </tr>\n",
       "    <tr>\n",
       "      <th>14</th>\n",
       "      <td>14</td>\n",
       "      <td>debt_collection</td>\n",
       "      <td>collection agency system inc mn phone sent let...</td>\n",
       "    </tr>\n",
       "    <tr>\n",
       "      <th>15</th>\n",
       "      <td>15</td>\n",
       "      <td>mortgages_and_loans</td>\n",
       "      <td>current loan provident funding applied refinan...</td>\n",
       "    </tr>\n",
       "    <tr>\n",
       "      <th>16</th>\n",
       "      <td>16</td>\n",
       "      <td>mortgages_and_loans</td>\n",
       "      <td>current loan got deferment paid back credit hi...</td>\n",
       "    </tr>\n",
       "    <tr>\n",
       "      <th>17</th>\n",
       "      <td>17</td>\n",
       "      <td>mortgages_and_loans</td>\n",
       "      <td>closed mortgage dovenmuhle mortgage paid full ...</td>\n",
       "    </tr>\n",
       "    <tr>\n",
       "      <th>18</th>\n",
       "      <td>18</td>\n",
       "      <td>mortgages_and_loans</td>\n",
       "      <td>contacted bank america boa mortgage customer s...</td>\n",
       "    </tr>\n",
       "    <tr>\n",
       "      <th>19</th>\n",
       "      <td>19</td>\n",
       "      <td>credit_reporting</td>\n",
       "      <td>xxxxxxxx credit card year disputed charge vend...</td>\n",
       "    </tr>\n",
       "  </tbody>\n",
       "</table>\n",
       "</div>"
      ],
      "text/plain": [
       "    Unnamed: 0              product  \\\n",
       "0            0          credit_card   \n",
       "1            1          credit_card   \n",
       "2            2       retail_banking   \n",
       "3            3     credit_reporting   \n",
       "4            4     credit_reporting   \n",
       "5            5     credit_reporting   \n",
       "6            6     credit_reporting   \n",
       "7            7     credit_reporting   \n",
       "8            8     credit_reporting   \n",
       "9            9     credit_reporting   \n",
       "10          10  mortgages_and_loans   \n",
       "11          11          credit_card   \n",
       "12          12          credit_card   \n",
       "13          13     credit_reporting   \n",
       "14          14      debt_collection   \n",
       "15          15  mortgages_and_loans   \n",
       "16          16  mortgages_and_loans   \n",
       "17          17  mortgages_and_loans   \n",
       "18          18  mortgages_and_loans   \n",
       "19          19     credit_reporting   \n",
       "\n",
       "                                            narrative  \n",
       "0   purchase order day shipping amount receive pro...  \n",
       "1   forwarded message date tue subject please inve...  \n",
       "2   forwarded message cc sent friday pdt subject f...  \n",
       "3   payment history missing credit report speciali...  \n",
       "4   payment history missing credit report made mis...  \n",
       "5   payment history missing credit report made mis...  \n",
       "6   va date complaint experian credit bureau invol...  \n",
       "7   account reported abbreviated name full name se...  \n",
       "8   account reported abbreviated name full name se...  \n",
       "9   usdoexxxx account reported abbreviated name fu...  \n",
       "10  beginning mortgage held mb financial mb mortga...  \n",
       "11  called request new york state covid relief pla...  \n",
       "12  capital one secured credit account opened name...  \n",
       "13  collection account acct opened balance account...  \n",
       "14  collection agency system inc mn phone sent let...  \n",
       "15  current loan provident funding applied refinan...  \n",
       "16  current loan got deferment paid back credit hi...  \n",
       "17  closed mortgage dovenmuhle mortgage paid full ...  \n",
       "18  contacted bank america boa mortgage customer s...  \n",
       "19  xxxxxxxx credit card year disputed charge vend...  "
      ]
     },
     "execution_count": 4,
     "metadata": {},
     "output_type": "execute_result"
    }
   ],
   "source": [
    "df = pd.read_csv('/kaggle/input/consume-complaints-dataset-fo-nlp/complaints_processed.csv')\n",
    "df.head(20)"
   ]
  },
  {
   "cell_type": "code",
   "execution_count": 5,
   "id": "77ba39fa",
   "metadata": {
    "execution": {
     "iopub.execute_input": "2024-11-21T13:07:36.108718Z",
     "iopub.status.busy": "2024-11-21T13:07:36.108363Z",
     "iopub.status.idle": "2024-11-21T13:07:36.149447Z",
     "shell.execute_reply": "2024-11-21T13:07:36.148285Z"
    },
    "papermill": {
     "duration": 0.046874,
     "end_time": "2024-11-21T13:07:36.151105",
     "exception": false,
     "start_time": "2024-11-21T13:07:36.104231",
     "status": "completed"
    },
    "tags": []
   },
   "outputs": [
    {
     "name": "stdout",
     "output_type": "stream",
     "text": [
      "<class 'pandas.core.frame.DataFrame'>\n",
      "RangeIndex: 162421 entries, 0 to 162420\n",
      "Data columns (total 3 columns):\n",
      " #   Column      Non-Null Count   Dtype \n",
      "---  ------      --------------   ----- \n",
      " 0   Unnamed: 0  162421 non-null  int64 \n",
      " 1   product     162421 non-null  object\n",
      " 2   narrative   162411 non-null  object\n",
      "dtypes: int64(1), object(2)\n",
      "memory usage: 3.7+ MB\n"
     ]
    }
   ],
   "source": [
    "# Displaying basic information about the dataframe\n",
    "df.info()"
   ]
  },
  {
   "cell_type": "markdown",
   "id": "5c2eba14",
   "metadata": {
    "papermill": {
     "duration": 0.002872,
     "end_time": "2024-11-21T13:07:36.157191",
     "exception": false,
     "start_time": "2024-11-21T13:07:36.154319",
     "status": "completed"
    },
    "tags": []
   },
   "source": [
    "The dataset has 162421 entries and three columns.\n",
    "Unnamed:0 Appears to be an index column and can be ignored or removed.\n",
    "Product-Contains the complaint category(target variable) with values like credit_card,retail_banking,credit_reporting etc.\n",
    "#### There are 10 missing entries in the narrative column"
   ]
  },
  {
   "cell_type": "code",
   "execution_count": 6,
   "id": "4f550468",
   "metadata": {
    "execution": {
     "iopub.execute_input": "2024-11-21T13:07:36.164746Z",
     "iopub.status.busy": "2024-11-21T13:07:36.164402Z",
     "iopub.status.idle": "2024-11-21T13:07:36.221428Z",
     "shell.execute_reply": "2024-11-21T13:07:36.220617Z"
    },
    "papermill": {
     "duration": 0.062762,
     "end_time": "2024-11-21T13:07:36.223088",
     "exception": false,
     "start_time": "2024-11-21T13:07:36.160326",
     "status": "completed"
    },
    "tags": []
   },
   "outputs": [
    {
     "name": "stdout",
     "output_type": "stream",
     "text": [
      "<class 'pandas.core.frame.DataFrame'>\n",
      "Index: 162411 entries, 0 to 162420\n",
      "Data columns (total 2 columns):\n",
      " #   Column     Non-Null Count   Dtype \n",
      "---  ------     --------------   ----- \n",
      " 0   product    162411 non-null  object\n",
      " 1   narrative  162411 non-null  object\n",
      "dtypes: object(2)\n",
      "memory usage: 3.7+ MB\n"
     ]
    }
   ],
   "source": [
    "# dropping the unnecessary 'Unnamed: 0' column.\n",
    "df = df.drop(columns=['Unnamed: 0'])\n",
    "# dropping rows with missing values in the narrative column\n",
    "df = df.dropna(subset=['narrative'])\n",
    "df.info()"
   ]
  },
  {
   "cell_type": "code",
   "execution_count": 7,
   "id": "11904fc8",
   "metadata": {
    "execution": {
     "iopub.execute_input": "2024-11-21T13:07:36.231246Z",
     "iopub.status.busy": "2024-11-21T13:07:36.230543Z",
     "iopub.status.idle": "2024-11-21T13:07:36.459211Z",
     "shell.execute_reply": "2024-11-21T13:07:36.458113Z"
    },
    "papermill": {
     "duration": 0.23455,
     "end_time": "2024-11-21T13:07:36.461100",
     "exception": false,
     "start_time": "2024-11-21T13:07:36.226550",
     "status": "completed"
    },
    "tags": []
   },
   "outputs": [
    {
     "data": {
      "text/plain": [
       "37735"
      ]
     },
     "execution_count": 7,
     "metadata": {},
     "output_type": "execute_result"
    }
   ],
   "source": [
    "#checking for duplicate rows on 'product','narrative'\n",
    "duplicates = df.duplicated(subset=['product','narrative']).sum()\n",
    "duplicates"
   ]
  },
  {
   "cell_type": "markdown",
   "id": "7f54dbd6",
   "metadata": {
    "papermill": {
     "duration": 0.003013,
     "end_time": "2024-11-21T13:07:36.467562",
     "exception": false,
     "start_time": "2024-11-21T13:07:36.464549",
     "status": "completed"
    },
    "tags": []
   },
   "source": [
    "There are 37,735 duplicate entries in the dataset based on product and narrative columns.However,I'll keep them since during model selection and training,I noted that removing the duplicates would negatively impact our best model performance."
   ]
  },
  {
   "cell_type": "code",
   "execution_count": 8,
   "id": "783e2ebe",
   "metadata": {
    "execution": {
     "iopub.execute_input": "2024-11-21T13:07:36.475610Z",
     "iopub.status.busy": "2024-11-21T13:07:36.475194Z",
     "iopub.status.idle": "2024-11-21T13:07:36.489772Z",
     "shell.execute_reply": "2024-11-21T13:07:36.488835Z"
    },
    "papermill": {
     "duration": 0.020499,
     "end_time": "2024-11-21T13:07:36.491605",
     "exception": false,
     "start_time": "2024-11-21T13:07:36.471106",
     "status": "completed"
    },
    "tags": []
   },
   "outputs": [
    {
     "data": {
      "text/plain": [
       "product\n",
       "credit_reporting       91172\n",
       "debt_collection        23148\n",
       "mortgages_and_loans    18990\n",
       "credit_card            15566\n",
       "retail_banking         13535\n",
       "Name: count, dtype: int64"
      ]
     },
     "execution_count": 8,
     "metadata": {},
     "output_type": "execute_result"
    }
   ],
   "source": [
    "# checking the distribution of the 'product' categories\n",
    "product_dist = df['product'].value_counts()\n",
    "product_dist"
   ]
  },
  {
   "cell_type": "code",
   "execution_count": 9,
   "id": "67f7461c",
   "metadata": {
    "execution": {
     "iopub.execute_input": "2024-11-21T13:07:36.500645Z",
     "iopub.status.busy": "2024-11-21T13:07:36.499961Z",
     "iopub.status.idle": "2024-11-21T13:07:36.808862Z",
     "shell.execute_reply": "2024-11-21T13:07:36.807990Z"
    },
    "papermill": {
     "duration": 0.315422,
     "end_time": "2024-11-21T13:07:36.810656",
     "exception": false,
     "start_time": "2024-11-21T13:07:36.495234",
     "status": "completed"
    },
    "tags": []
   },
   "outputs": [
    {
     "data": {
      "image/png": "[encoded data removed]",
      "text/plain": [
       "<Figure size 1000x600 with 1 Axes>"
      ]
     },
     "metadata": {},
     "output_type": "display_data"
    }
   ],
   "source": [
    "# plotting the distribution of complaint categories.\n",
    "plt.figure(figsize=(10,6))\n",
    "ax = product_dist.plot(kind='bar',color='darkblue')\n",
    "plt.title('Distribution of Complaint Categories')\n",
    "plt.xlabel('Complaint Category')\n",
    "plt.ylabel('Number of Complaints')\n",
    "plt.xticks(rotation=45)\n",
    "\n",
    "#adding count on top of each bar.\n",
    "for i,count in enumerate(product_dist):\n",
    "    ax.text(i,count + 200,str(count),ha='center',va='bottom')\n",
    "plt.show()"
   ]
  },
  {
   "cell_type": "markdown",
   "id": "4088d95c",
   "metadata": {
    "papermill": {
     "duration": 0.003907,
     "end_time": "2024-11-21T13:07:36.818598",
     "exception": false,
     "start_time": "2024-11-21T13:07:36.814691",
     "status": "completed"
    },
    "tags": []
   },
   "source": [
    "Unnecessary Unnamed: 0 column dropped and missing values in narrative column handled"
   ]
  }
 ],
 "metadata": {
  "kaggle": {
   "accelerator": "nvidiaTeslaT4",
   "dataSources": [
    {
     "datasetId": 1363681,
     "sourceId": 2265312,
     "sourceType": "datasetVersion"
    }
   ],
   "dockerImageVersionId": 30787,
   "isGpuEnabled": true,
   "isInternetEnabled": true,
   "language": "python",
   "sourceType": "notebook"
  },
  "kernelspec": {
   "display_name": "Python 3",
   "language": "python",
   "name": "python3"
  },
  "language_info": {
   "codemirror_mode": {
    "name": "ipython",
    "version": 3
   },
   "file_extension": ".py",
   "mimetype": "text/x-python",
   "name": "python",
   "nbconvert_exporter": "python",
   "pygments_lexer": "ipython3",
   "version": "3.10.14"
  },
  "papermill": {
   "default_parameters": {},
   "duration": 9.736378,
   "end_time": "2024-11-21T13:07:37.339426",
   "environment_variables": {},
   "exception": null,
   "input_path": "__notebook__.ipynb",
   "output_path": "__notebook__.ipynb",
   "parameters": {},
   "start_time": "2024-11-21T13:07:27.603048",
   "version": "2.6.0"
  }
 },
 "nbformat": 4,
 "nbformat_minor": 5
}
